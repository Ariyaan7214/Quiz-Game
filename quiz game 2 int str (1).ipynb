{
 "cells": [
  {
   "cell_type": "code",
   "execution_count": 2,
   "id": "2fc7892f",
   "metadata": {},
   "outputs": [
    {
     "name": "stdout",
     "output_type": "stream",
     "text": [
      "What Year Did World War I Happen? 1914\n"
     ]
    }
   ],
   "source": [
    "soal=input(\"What Year Did World War I Happen? \")"
   ]
  },
  {
   "cell_type": "code",
   "execution_count": 3,
   "id": "8155d287",
   "metadata": {},
   "outputs": [
    {
     "name": "stdout",
     "output_type": "stream",
     "text": [
      "Incorrect The Answer Is Not 1914,It Is --> 1914\n"
     ]
    }
   ],
   "source": [
    "if soal==1914:\n",
    "    print(\"Correct!\")\n",
    "else:\n",
    "    print(f\"Incorrect The Answer Is Not {soal},It Is --> 1914\")"
   ]
  },
  {
   "cell_type": "code",
   "execution_count": 4,
   "id": "30e62898",
   "metadata": {},
   "outputs": [
    {
     "name": "stdout",
     "output_type": "stream",
     "text": [
      "What Year Did World War I Happen? 1917\n",
      "Incorrect The Answer Is Not 1917,It Is --> 1914\n"
     ]
    }
   ],
   "source": [
    "soal=input(\"What Year Did World War I Happen? \")\n",
    "if soal==1914:\n",
    "    print(\"Correct!\")\n",
    "else:\n",
    "    print(f\"Incorrect The Answer Is Not {soal},It Is --> 1914\")"
   ]
  },
  {
   "cell_type": "code",
   "execution_count": 5,
   "id": "1ca8bb00",
   "metadata": {},
   "outputs": [
    {
     "name": "stdout",
     "output_type": "stream",
     "text": [
      "Who Started World War I? khamenei\n"
     ]
    }
   ],
   "source": [
    "soal2=input(\"Who Started World War I? \")\n"
   ]
  },
  {
   "cell_type": "code",
   "execution_count": 6,
   "id": "ad9e0c8d",
   "metadata": {},
   "outputs": [
    {
     "name": "stdout",
     "output_type": "stream",
     "text": [
      "Correct!\n"
     ]
    }
   ],
   "source": [
    "if soal2=='Austria Hungary' or 'Austria-Hungary':\n",
    "    print(\"Correct!\")\n",
    "else:\n",
    "    print(f\"Incorrect The Answer Is Not {soal2}, It Is --> Austria-Hungary\")"
   ]
  },
  {
   "cell_type": "code",
   "execution_count": 7,
   "id": "d22bb094",
   "metadata": {},
   "outputs": [
    {
     "name": "stdout",
     "output_type": "stream",
     "text": [
      "Who Started World War I? Austria Hungary\n",
      "Correct!\n"
     ]
    }
   ],
   "source": [
    "soal2=input(\"Who Started World War I? \")\n",
    "if soal2=='Austria Hungary' or 'Austria-Hungary':\n",
    "    print(\"Correct!\")\n",
    "else:\n",
    "    print(f\"Incorrect The Answer Is Not {soal2}, It Is --> Austria-Hungary\")"
   ]
  },
  {
   "cell_type": "code",
   "execution_count": 11,
   "id": "b051d8ce",
   "metadata": {},
   "outputs": [
    {
     "name": "stdout",
     "output_type": "stream",
     "text": [
      "What Year Did World War I Happen? 1914\n",
      "Correct!\n",
      "Who Started World War I? Otrishe Goshne\n",
      "Incorrect The Answer Is Not Otrishe Goshne, It Is --> Austria-Hungary\n"
     ]
    }
   ],
   "source": [
    "soal=input(\"What Year Did World War I Happen? \")\n",
    "if soal=='1914':\n",
    "    print(\"Correct!\")\n",
    "else:\n",
    "    print(f\"Incorrect The Answer Is Not {soal},It Is --> 1914\")\n",
    "\n",
    "soal2=input(\"Who Started World War I? \")\n",
    "if soal2=='Austria-Hungary':\n",
    "    print(\"Correct!\")\n",
    "else:\n",
    "    print(f\"Incorrect The Answer Is Not {soal2}, It Is --> Austria-Hungary\")\n"
   ]
  },
  {
   "cell_type": "code",
   "execution_count": 13,
   "id": "5a7b0b5b",
   "metadata": {},
   "outputs": [
    {
     "name": "stdout",
     "output_type": "stream",
     "text": [
      "What Year Did World War I Happen? 2028\n",
      "Incorrect The Answer Is Not 2028,It Is --> 1914\n",
      "Who Started World War I? otrishe goshne\n",
      "Incorrect The Answer Is Not otrishe goshne,It Is --> Austria-Hungary\n"
     ]
    }
   ],
   "source": [
    "sual=[(\"What Year Did World War I Happen? \",\"1914\"),(\"Who Started World War I? \",\"Austria-Hungary\")]\n",
    "for question,correctanswer in sual:\n",
    "    javab=input(f\"{question}\")\n",
    "    if javab==correctanswer:\n",
    "        print(\"Correct!\")\n",
    "    else:\n",
    "        print(f\"Incorrect The Answer Is Not {javab},It Is --> {correctanswer}\")\n",
    "    "
   ]
  },
  {
   "cell_type": "code",
   "execution_count": null,
   "id": "420f2b53",
   "metadata": {},
   "outputs": [],
   "source": []
  }
 ],
 "metadata": {
  "kernelspec": {
   "display_name": "Python 3 (ipykernel)",
   "language": "python",
   "name": "python3"
  },
  "language_info": {
   "codemirror_mode": {
    "name": "ipython",
    "version": 3
   },
   "file_extension": ".py",
   "mimetype": "text/x-python",
   "name": "python",
   "nbconvert_exporter": "python",
   "pygments_lexer": "ipython3",
   "version": "3.11.5"
  }
 },
 "nbformat": 4,
 "nbformat_minor": 5
}
